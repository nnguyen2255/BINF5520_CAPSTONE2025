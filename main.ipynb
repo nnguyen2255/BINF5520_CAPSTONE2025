{
 "cells": [
  {
   "cell_type": "code",
   "execution_count": null,
   "id": "3f0ffce3",
   "metadata": {},
   "outputs": [],
   "source": [
    "#Getting drug data from ChEMBL database\n",
    "#This script connects to the ChEMBL database and retrieves information about drugs and their interactions with a specified protein target.\n",
    "\n",
    "import importlib\n",
    "import chembl_connect as cc\n",
    "importlib.reload(cc)\n",
    "import pandas as pd\n",
    "import json \n",
    "\n",
    "df = pd.read_csv(\"drug.csv\")\n",
    "drug_names = df[\"Drug\"].dropna().unique().tolist()\n",
    "\n",
    "drugs_df = cc.main(drug_list= drug_names, protein_name=\"Dopamine transporter\")"
   ]
  },
  {
   "cell_type": "code",
   "execution_count": null,
   "id": "fb1b9972",
   "metadata": {},
   "outputs": [],
   "source": [
    "import similarity as sim\n",
    "importlib.reload(sim)\n",
    "\n",
    "\n"
   ]
  }
 ],
 "metadata": {
  "kernelspec": {
   "display_name": "base",
   "language": "python",
   "name": "python3"
  },
  "language_info": {
   "codemirror_mode": {
    "name": "ipython",
    "version": 3
   },
   "file_extension": ".py",
   "mimetype": "text/x-python",
   "name": "python",
   "nbconvert_exporter": "python",
   "pygments_lexer": "ipython3",
   "version": "3.12.9"
  }
 },
 "nbformat": 4,
 "nbformat_minor": 5
}
