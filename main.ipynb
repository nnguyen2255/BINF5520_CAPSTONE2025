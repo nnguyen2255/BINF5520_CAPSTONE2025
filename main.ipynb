{
 "cells": [
  {
   "cell_type": "code",
   "execution_count": null,
   "id": "3f0ffce3",
   "metadata": {},
   "outputs": [],
   "source": [
    "#Getting drug data from ChEMBL database\n",
    "#This script connects to the ChEMBL database and retrieves information about drugs and their interactions with a specified protein target.\n",
    "\n",
    "import importlib\n",
    "import chembl_connect as cc\n",
    "importlib.reload(cc)\n",
    "import pandas as pd\n",
    "import json \n",
    "\n",
    "df = pd.read_csv(\"drug.csv\")\n",
    "drug_names = df[\"Drug\"].dropna().unique().tolist()\n",
    "\n",
    "interaction = cc.main(drug_list= drug_names, protein_name=\"Dopamine transporter\")"
   ]
  },
  {
   "cell_type": "code",
   "execution_count": null,
   "id": "fb1b9972",
   "metadata": {},
   "outputs": [
    {
     "name": "stdout",
     "output_type": "stream",
     "text": [
      "                       drug_name                      canonical_smiles  \\\n",
      "0                Methylphenidate            COC(=O)C(c1ccccc1)C1CCCCN1   \n",
      "4  Methylphenidate Hydrochloride         COC(=O)C(c1ccccc1)C1CCCCN1.Cl   \n",
      "6                    Amphetamine                        CC(N)Cc1ccccc1   \n",
      "7                    Atomoxetine                        CC(N)Cc1ccccc1   \n",
      "8                      Modafinil  NC(=O)C[S+]([O-])C(c1ccccc1)c1ccccc1   \n",
      "\n",
      "                                         fingerprint  \n",
      "0  [0, 1, 0, 0, 0, 0, 0, 0, 0, 0, 0, 0, 0, 0, 0, ...  \n",
      "4  [0, 1, 0, 0, 0, 0, 0, 0, 0, 0, 0, 0, 0, 0, 0, ...  \n",
      "6  [0, 1, 0, 0, 0, 0, 0, 0, 0, 0, 0, 0, 0, 0, 0, ...  \n",
      "7  [0, 1, 0, 0, 0, 0, 0, 0, 0, 0, 0, 0, 0, 0, 0, ...  \n",
      "8  [0, 1, 0, 0, 0, 0, 0, 0, 0, 0, 0, 0, 0, 0, 0, ...  \n"
     ]
    }
   ],
   "source": [
    "import similarity as sim\n",
    "importlib.reload(sim)\n",
    "\n",
    "\n",
    "drugs_df = pd.read_csv(\"drug_target_interactions.csv\")\n",
    "\n",
    "#create a new dataframe to store the drug names and their corresponding SMILES strings\n",
    "drug_smiles= drugs_df[['drug_name', 'canonical_smiles']].dropna().drop_duplicates()\n",
    "\n",
    "#generate Morgan fingerprints for each drug using the canonical SMILES strings\n",
    "drug_smiles['fingerprint'] = drug_smiles['canonical_smiles'].apply(sim.get_morgan_fingerprint)\n",
    "print(drug_smiles.head())\n",
    "\n",
    "# calculates the Tanimoto similarity between the fingerprints of each drug and a reference drug \n",
    "results = []\n",
    "\n",
    "for i in range(len(drug_smiles)): #select each frug one by one \n",
    "    drug1 = drug_smiles.iloc[i] #get the current drug row\n",
    "    for j in range(len(drug_smiles)): #for each drug, loop through all drugs again to compare\n",
    "        if i == j:\n",
    "            continue # skip if it's the same drug\n",
    "        drug2 = drug_smiles.iloc[j] #get the next drug row\n",
    "        fp1 = drug1[\"fingerprint\"] \n",
    "        fp2 = drug2[\"fingerprint\"] \n",
    "        \n",
    "        sim_score = sim.calculate_tanimoto_similarity(fp1, fp2) # calculate the similarity score between the two fingerprints\n",
    "        results.append({\n",
    "            'drug_1': drug1['drug_name'],\n",
    "            'drug_2': drug2['drug_name'],\n",
    "            'similarity': sim_score\n",
    "        })\n",
    "\n",
    "similarity_df = pd.DataFrame(results)\n",
    "similarity_df.to_csv(\"pairwise_drug_similarity.csv\", index=False)\n",
    "\n"
   ]
  }
 ],
 "metadata": {
  "kernelspec": {
   "display_name": "base",
   "language": "python",
   "name": "python3"
  },
  "language_info": {
   "codemirror_mode": {
    "name": "ipython",
    "version": 3
   },
   "file_extension": ".py",
   "mimetype": "text/x-python",
   "name": "python",
   "nbconvert_exporter": "python",
   "pygments_lexer": "ipython3",
   "version": "3.12.9"
  }
 },
 "nbformat": 4,
 "nbformat_minor": 5
}
